{
 "cells": [
  {
   "cell_type": "code",
   "execution_count": 1,
   "metadata": {},
   "outputs": [],
   "source": [
    "from selenium import webdriver\n",
    "from selenium.webdriver.common.by import By\n",
    "from selenium.webdriver.chrome.service import Service\n",
    "from selenium.webdriver.chrome.options import Options\n",
    "from bs4 import BeautifulSoup\n",
    "import pandas as pd"
   ]
  },
  {
   "cell_type": "code",
   "execution_count": null,
   "metadata": {},
   "outputs": [],
   "source": [
    "# Establecemos el driver\n",
    "chrome_options = Options()\n",
    "chrome_options.add_argument(\"--disable-popup-blocking\")\n",
    "\n",
    "# Ruta al chromedriver\n",
    "chromedriver_path = r'C:\\Users\\pabma\\Downloads\\chromedriver-win64\\chromedriver-win64\\chromedriver.exe'\n",
    "\n",
    "# Inicializa el navegador\n",
    "service = Service(chromedriver_path)\n",
    "driver = webdriver.Chrome(service=service, options=chrome_options)"
   ]
  },
  {
   "cell_type": "code",
   "execution_count": 4,
   "metadata": {},
   "outputs": [],
   "source": [
    "# Entramos dentro de la pagina a scrapear, maximizamos la pantalla y aceptamos las cookies\n",
    "\n",
    "driver.get('https://www.amazon.es/gp/bestsellers/?ref_=nav_cs_bestsellers') # Las reseñas las vamos a obtener de los bestsellers\n",
    "driver.maximize_window()\n",
    "\n",
    "accept_cokies = driver.find_element(By.ID ,'sp-cc-accept')\n",
    "accept_cokies.click()\n",
    "driver.implicitly_wait(10) # Una espera para evitar errores"
   ]
  },
  {
   "cell_type": "code",
   "execution_count": null,
   "metadata": {},
   "outputs": [],
   "source": [
    "# Dentro de la pagina buscamos todas las urls \"ver mas\" para poder scrapear la mayor cantidad de productos en la menor cantidad de enlaces posibles\n",
    " \n",
    "urls_econtradas = driver.find_elements(By.CLASS_NAME, 'a-link-normal')\n",
    "urls_ver_mas = []\n",
    "for url in urls_econtradas:\n",
    "    if url.text == 'Ver más':\n",
    "        urls_ver_mas.append(url)"
   ]
  },
  {
   "cell_type": "code",
   "execution_count": 5,
   "metadata": {},
   "outputs": [],
   "source": [
    "lista_combined_df = []\n",
    "for url_ver_mas in urls_ver_mas:\n",
    "    \n",
    "    url_ver_mas.click()\n",
    "    driver.implicitly_wait(10)\n",
    "    clase_link_producto = 'a-link-normal'\n",
    "    clase_link_hijo = 'aok-block'\n",
    "\n",
    "    try:   \n",
    "        urls_todos_productos = driver.find_elements(By.CLASS_NAME, clase_link_hijo)\n",
    "        driver.implicitly_wait(10)\n",
    "\n",
    "        html = driver.page_source\n",
    "        soup = BeautifulSoup(html, 'html.parser')\n",
    "        categoria_en_div = soup.find('div', class_='_cDEzb_card-title_2sYgw')\n",
    "        categoria = categoria_en_div.find('h1').text\n",
    "\n",
    "        lista_df = []\n",
    "        urls = [elemento.get_attribute('href') for elemento in urls_todos_productos]\n",
    "        driver.implicitly_wait(10)\n",
    "\n",
    "        for url_producto in urls:\n",
    "            # ir = url_producto.get_attribute('href')\n",
    "            # driver.implicitly_wait(10)\n",
    "\n",
    "            driver.get(url_producto)\n",
    "            driver.implicitly_wait(10)\n",
    "\n",
    "            try:\n",
    "                clase_producto = 'a-expander-content reviewText review-text-content a-expander-partial-collapse-content'\n",
    "                html = driver.page_source\n",
    "                soup = BeautifulSoup(html, 'html.parser')\n",
    "                reseñas_en_div = soup.find_all('div', class_=clase_producto)\n",
    "                nombre_producto = soup.find('span', id='productTitle').text\n",
    "\n",
    "                reseñas = []\n",
    "                for reseña in reseñas_en_div:\n",
    "                    if (reseña.find('span').text != 'Video Player is loading.') and (type(reseña.find('span').text) == str): # Algunas reseñas con video daban este mensaje en lugar de la reseña que de nada nos sirve\n",
    "                        # y otras nos daban nones, por lo que podemos filtrar un poco\n",
    "                        reseñas.append(reseña.find('span').text)\n",
    "                        driver.implicitly_wait(10)\n",
    "\n",
    "\n",
    "                producto = pd.DataFrame()\n",
    "                producto['reseñas_humanas'] = reseñas\n",
    "                producto['nombre_producto'] = nombre_producto\n",
    "                producto['categoria_producto'] = categoria # Esto de momento no cambia\n",
    "                lista_df.append(producto)\n",
    "                driver.implicitly_wait(10)\n",
    "\n",
    "            except Exception as e:\n",
    "                print(f\"Error al extraer información de {url_producto}: {e}\") # obsevamos en que url no ha podido entrar\n",
    "\n",
    "            \n",
    "            driver.back()\n",
    "            driver.implicitly_wait(10)\n",
    "\n",
    "        combined_df = pd.concat(lista_df, ignore_index=True)\n",
    "    except Exception as e:\n",
    "        print(f\"Error al extraer información de {url_producto}: {e}\") \n",
    "\n",
    "    lista_combined_df.append(combined_df)\n",
    "\n",
    "    driver.back()\n",
    "    driver.implicitly_wait(10)\n",
    "\n",
    "driver.quit()"
   ]
  },
  {
   "cell_type": "code",
   "execution_count": 6,
   "metadata": {},
   "outputs": [],
   "source": [
    "df_definitivo = pd.concat(lista_combined_df, ignore_index=True)"
   ]
  },
  {
   "cell_type": "code",
   "execution_count": 8,
   "metadata": {},
   "outputs": [
    {
     "data": {
      "text/plain": [
       "72"
      ]
     },
     "execution_count": 8,
     "metadata": {},
     "output_type": "execute_result"
    }
   ],
   "source": [
    "df_definitivo['reseñas_humanas'].duplicated().sum()"
   ]
  },
  {
   "cell_type": "code",
   "execution_count": 10,
   "metadata": {},
   "outputs": [
    {
     "data": {
      "text/plain": [
       "array(['Los más vendidos en Amazon Renewed',\n",
       "       'Los más vendidos en Salud y cuidado personal',\n",
       "       'Los más vendidos en Hogar y cocina',\n",
       "       'Los más vendidos en Belleza',\n",
       "       'Los más vendidos en Productos para mascotas',\n",
       "       'Los más vendidos en Iluminación'], dtype=object)"
      ]
     },
     "execution_count": 10,
     "metadata": {},
     "output_type": "execute_result"
    }
   ],
   "source": [
    "df_definitivo['categoria_producto'].unique()"
   ]
  },
  {
   "cell_type": "code",
   "execution_count": 11,
   "metadata": {},
   "outputs": [
    {
     "data": {
      "text/plain": [
       "180"
      ]
     },
     "execution_count": 11,
     "metadata": {},
     "output_type": "execute_result"
    }
   ],
   "source": [
    "len(df_definitivo['nombre_producto'].unique())"
   ]
  },
  {
   "cell_type": "code",
   "execution_count": 12,
   "metadata": {},
   "outputs": [
    {
     "data": {
      "text/html": [
       "<div>\n",
       "<style scoped>\n",
       "    .dataframe tbody tr th:only-of-type {\n",
       "        vertical-align: middle;\n",
       "    }\n",
       "\n",
       "    .dataframe tbody tr th {\n",
       "        vertical-align: top;\n",
       "    }\n",
       "\n",
       "    .dataframe thead th {\n",
       "        text-align: right;\n",
       "    }\n",
       "</style>\n",
       "<table border=\"1\" class=\"dataframe\">\n",
       "  <thead>\n",
       "    <tr style=\"text-align: right;\">\n",
       "      <th></th>\n",
       "      <th>reseñas_humanas</th>\n",
       "      <th>nombre_producto</th>\n",
       "      <th>categoria_producto</th>\n",
       "    </tr>\n",
       "  </thead>\n",
       "  <tbody>\n",
       "    <tr>\n",
       "      <th>0</th>\n",
       "      <td>Necesitaba un nuevo movil y me decidí por este...</td>\n",
       "      <td>Apple iPhone 12, 128GB, Negro - (Reaco...</td>\n",
       "      <td>Los más vendidos en Amazon Renewed</td>\n",
       "    </tr>\n",
       "    <tr>\n",
       "      <th>1</th>\n",
       "      <td>Quisiera expresar mi profunda insatisfacción c...</td>\n",
       "      <td>Apple iPhone 12, 128GB, Negro - (Reaco...</td>\n",
       "      <td>Los más vendidos en Amazon Renewed</td>\n",
       "    </tr>\n",
       "    <tr>\n",
       "      <th>2</th>\n",
       "      <td>Está en perfectas condiciones la batería al 10...</td>\n",
       "      <td>Apple iPhone 12, 128GB, Negro - (Reaco...</td>\n",
       "      <td>Los más vendidos en Amazon Renewed</td>\n",
       "    </tr>\n",
       "    <tr>\n",
       "      <th>3</th>\n",
       "      <td>Me llegó ayer el iPhone en perfectas condicion...</td>\n",
       "      <td>Apple iPhone 12, 128GB, Negro - (Reaco...</td>\n",
       "      <td>Los más vendidos en Amazon Renewed</td>\n",
       "    </tr>\n",
       "    <tr>\n",
       "      <th>4</th>\n",
       "      <td>El iPhone 12 es un auténtico logro de la ingen...</td>\n",
       "      <td>Apple iPhone 12, 128GB, Negro - (Reaco...</td>\n",
       "      <td>Los más vendidos en Amazon Renewed</td>\n",
       "    </tr>\n",
       "    <tr>\n",
       "      <th>...</th>\n",
       "      <td>...</td>\n",
       "      <td>...</td>\n",
       "      <td>...</td>\n",
       "    </tr>\n",
       "    <tr>\n",
       "      <th>2224</th>\n",
       "      <td>Pues que decir, ilumina bien la luz fría , per...</td>\n",
       "      <td>wonderlamp Downlight LED redondo extra...</td>\n",
       "      <td>Los más vendidos en Iluminación</td>\n",
       "    </tr>\n",
       "    <tr>\n",
       "      <th>2225</th>\n",
       "      <td>Montado esta, bien funcionando.</td>\n",
       "      <td>wonderlamp Downlight LED redondo extra...</td>\n",
       "      <td>Los más vendidos en Iluminación</td>\n",
       "    </tr>\n",
       "    <tr>\n",
       "      <th>2226</th>\n",
       "      <td>He tenido de cambiar el downlight del baño y m...</td>\n",
       "      <td>wonderlamp Downlight LED redondo extra...</td>\n",
       "      <td>Los más vendidos en Iluminación</td>\n",
       "    </tr>\n",
       "    <tr>\n",
       "      <th>2227</th>\n",
       "      <td>Queda muy bien instalado, es muy plano y da mu...</td>\n",
       "      <td>wonderlamp Downlight LED redondo extra...</td>\n",
       "      <td>Los más vendidos en Iluminación</td>\n",
       "    </tr>\n",
       "    <tr>\n",
       "      <th>2228</th>\n",
       "      <td>N'ont duré que quelques dizaines d'heures. Pou...</td>\n",
       "      <td>wonderlamp Downlight LED redondo extra...</td>\n",
       "      <td>Los más vendidos en Iluminación</td>\n",
       "    </tr>\n",
       "  </tbody>\n",
       "</table>\n",
       "<p>2229 rows × 3 columns</p>\n",
       "</div>"
      ],
      "text/plain": [
       "                                        reseñas_humanas  \\\n",
       "0     Necesitaba un nuevo movil y me decidí por este...   \n",
       "1     Quisiera expresar mi profunda insatisfacción c...   \n",
       "2     Está en perfectas condiciones la batería al 10...   \n",
       "3     Me llegó ayer el iPhone en perfectas condicion...   \n",
       "4     El iPhone 12 es un auténtico logro de la ingen...   \n",
       "...                                                 ...   \n",
       "2224  Pues que decir, ilumina bien la luz fría , per...   \n",
       "2225                    Montado esta, bien funcionando.   \n",
       "2226  He tenido de cambiar el downlight del baño y m...   \n",
       "2227  Queda muy bien instalado, es muy plano y da mu...   \n",
       "2228  N'ont duré que quelques dizaines d'heures. Pou...   \n",
       "\n",
       "                                        nombre_producto  \\\n",
       "0             Apple iPhone 12, 128GB, Negro - (Reaco...   \n",
       "1             Apple iPhone 12, 128GB, Negro - (Reaco...   \n",
       "2             Apple iPhone 12, 128GB, Negro - (Reaco...   \n",
       "3             Apple iPhone 12, 128GB, Negro - (Reaco...   \n",
       "4             Apple iPhone 12, 128GB, Negro - (Reaco...   \n",
       "...                                                 ...   \n",
       "2224          wonderlamp Downlight LED redondo extra...   \n",
       "2225          wonderlamp Downlight LED redondo extra...   \n",
       "2226          wonderlamp Downlight LED redondo extra...   \n",
       "2227          wonderlamp Downlight LED redondo extra...   \n",
       "2228          wonderlamp Downlight LED redondo extra...   \n",
       "\n",
       "                      categoria_producto  \n",
       "0     Los más vendidos en Amazon Renewed  \n",
       "1     Los más vendidos en Amazon Renewed  \n",
       "2     Los más vendidos en Amazon Renewed  \n",
       "3     Los más vendidos en Amazon Renewed  \n",
       "4     Los más vendidos en Amazon Renewed  \n",
       "...                                  ...  \n",
       "2224     Los más vendidos en Iluminación  \n",
       "2225     Los más vendidos en Iluminación  \n",
       "2226     Los más vendidos en Iluminación  \n",
       "2227     Los más vendidos en Iluminación  \n",
       "2228     Los más vendidos en Iluminación  \n",
       "\n",
       "[2229 rows x 3 columns]"
      ]
     },
     "execution_count": 12,
     "metadata": {},
     "output_type": "execute_result"
    }
   ],
   "source": [
    "df_definitivo"
   ]
  },
  {
   "cell_type": "code",
   "execution_count": 13,
   "metadata": {},
   "outputs": [],
   "source": [
    "df_definitivo.to_csv('reseñas_amazon.csv', index=False)"
   ]
  }
 ],
 "metadata": {
  "kernelspec": {
   "display_name": "Python 3",
   "language": "python",
   "name": "python3"
  },
  "language_info": {
   "codemirror_mode": {
    "name": "ipython",
    "version": 3
   },
   "file_extension": ".py",
   "mimetype": "text/x-python",
   "name": "python",
   "nbconvert_exporter": "python",
   "pygments_lexer": "ipython3",
   "version": "3.12.1"
  }
 },
 "nbformat": 4,
 "nbformat_minor": 2
}
