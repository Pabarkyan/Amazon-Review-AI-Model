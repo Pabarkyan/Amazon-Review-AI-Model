{
 "cells": [
  {
   "cell_type": "code",
   "execution_count": 84,
   "metadata": {},
   "outputs": [],
   "source": [
    "from selenium import webdriver\n",
    "from selenium.webdriver.common.by import By\n",
    "from selenium.webdriver.chrome.service import Service\n",
    "from selenium.webdriver.chrome.options import Options\n",
    "from selenium.webdriver.support.ui import WebDriverWait\n",
    "from selenium.webdriver.support import expected_conditions as EC\n",
    "from selenium.common.exceptions import TimeoutException, NoSuchElementException\n",
    "from bs4 import BeautifulSoup\n",
    "import pandas as pd\n",
    "from selenium.webdriver.support import expected_conditions as EC"
   ]
  },
  {
   "cell_type": "code",
   "execution_count": 154,
   "metadata": {},
   "outputs": [],
   "source": [
    "# Sacamos todas las rutas de \"ver mas\" para obtener la mayor cantidad de productos posibles\n",
    "\n",
    "chrome_options = Options()\n",
    "chrome_options.add_argument(\"--disable-popup-blocking\")\n",
    "\n",
    "# Ruta al chromedriver\n",
    "chromedriver_path = r'C:\\Users\\pabma\\Downloads\\chromedriver-win64\\chromedriver-win64\\chromedriver.exe'\n",
    "\n",
    "# Inicializa el navegador\n",
    "service = Service(chromedriver_path)\n",
    "driver = webdriver.Chrome(service=service, options=chrome_options)\n",
    "\n",
    "driver.get('https://www.amazon.es/gp/bestsellers/?ref_=nav_cs_bestsellers')\n",
    "driver.maximize_window()\n",
    "\n",
    "# Acceptamos las cookies\n",
    "accept_cokies = driver.find_element(By.ID ,'sp-cc-accept')\n",
    "accept_cokies.click()\n",
    "driver.implicitly_wait(10) # Una espera para evitar errores\n",
    "\n",
    "# a-link-normal\n",
    "urls_econtradas = driver.find_elements(By.CLASS_NAME, 'a-link-normal')\n",
    "urls_ver_mas = []\n",
    "for url in urls_econtradas:\n",
    "    if url.text == 'Ver más':\n",
    "        urls_ver_mas.append(url)\n"
   ]
  },
  {
   "cell_type": "code",
   "execution_count": 89,
   "metadata": {},
   "outputs": [
    {
     "name": "stdout",
     "output_type": "stream",
     "text": [
      "https://www.amazon.es/gp/bestsellers/lighting/ref=zg_bs_lighting_sm\n",
      "https://www.amazon.es/gp/bestsellers/amazon-renewed/ref=zg_bs_amazon-renewed_sm\n",
      "https://www.amazon.es/gp/bestsellers/hpc/ref=zg_bs_hpc_sm\n",
      "https://www.amazon.es/gp/bestsellers/kitchen/ref=zg_bs_kitchen_sm\n",
      "https://www.amazon.es/gp/bestsellers/beauty/ref=zg_bs_beauty_sm\n",
      "https://www.amazon.es/gp/bestsellers/fashion/ref=zg_bs_fashion_sm\n"
     ]
    }
   ],
   "source": [
    "for i in urls_ver_mas:\n",
    "    print(i.get_attribute('href'))\n",
    "    "
   ]
  },
  {
   "cell_type": "code",
   "execution_count": 155,
   "metadata": {},
   "outputs": [],
   "source": [
    "try:   \n",
    "    clase_link_producto = 'a-link-normal'\n",
    "    clase_link_hijo = 'aok-block'\n",
    "    urls_ver_mas[0].click()\n",
    "    driver.implicitly_wait(10)\n",
    "    urls_todos_productos = driver.find_elements(By.CLASS_NAME, clase_link_hijo)\n",
    "    driver.implicitly_wait(10)\n",
    "\n",
    "    html = driver.page_source\n",
    "    soup = BeautifulSoup(html, 'html.parser')\n",
    "    categoria_en_div = soup.find('div', class_='_cDEzb_card-title_2sYgw')\n",
    "    categoria = categoria_en_div.find('h1').text\n",
    "\n",
    "    lista_df = []\n",
    "    urls = [elemento.get_attribute('href') for elemento in urls_todos_productos]\n",
    "    driver.implicitly_wait(10)\n",
    "\n",
    "    for url_producto in urls:\n",
    "        # ir = url_producto.get_attribute('href')\n",
    "        # driver.implicitly_wait(10)\n",
    "\n",
    "        driver.get(url_producto)\n",
    "        driver.implicitly_wait(10)\n",
    "\n",
    "        try:\n",
    "            clase_producto = 'a-expander-content reviewText review-text-content a-expander-partial-collapse-content'\n",
    "            html = driver.page_source\n",
    "            soup = BeautifulSoup(html, 'html.parser')\n",
    "            reseñas_en_div = soup.find_all('div', class_=clase_producto)\n",
    "            nombre_producto = soup.find('span', id='productTitle').text\n",
    "\n",
    "            reseñas = []\n",
    "            for reseña in reseñas_en_div:\n",
    "                if (reseña.find('span').text != 'Video Player is loading.') and (type(reseña.find('span').text) == str): # Algunas reseñas con video daban este mensaje en lugar de la reseña que de nada nos sirve\n",
    "                    # y otras nos daban nones, por lo que podemos filtrar un poco\n",
    "                    reseñas.append(reseña.find('span').text)\n",
    "                    driver.implicitly_wait(10)\n",
    "\n",
    "\n",
    "            producto = pd.DataFrame()\n",
    "            producto['reseñas_humanas'] = reseñas\n",
    "            producto['nombre_producto'] = nombre_producto\n",
    "            producto['categoria_producto'] = categoria # Esto de momento no cambia\n",
    "            lista_df.append(producto)\n",
    "            driver.implicitly_wait(10)\n",
    "\n",
    "        except Exception as e:\n",
    "            print(f\"Error al extraer información de {url_producto}: {e}\") # obsevamos en que url no ha podido entrar\n",
    "\n",
    "        \n",
    "        driver.back()\n",
    "\n",
    "    combined_df = pd.concat(lista_df, ignore_index=True)\n",
    "except Exception as e:\n",
    "    print(f\"Error al extraer información de {url_producto}: {e}\") \n",
    "\n",
    "\n",
    "\n"
   ]
  },
  {
   "cell_type": "code",
   "execution_count": 157,
   "metadata": {},
   "outputs": [
    {
     "data": {
      "text/plain": [
       "4"
      ]
     },
     "execution_count": 157,
     "metadata": {},
     "output_type": "execute_result"
    }
   ],
   "source": [
    "combined_df['reseñas_humanas'].duplicated().sum()"
   ]
  },
  {
   "cell_type": "code",
   "execution_count": 137,
   "metadata": {},
   "outputs": [
    {
     "ename": "StaleElementReferenceException",
     "evalue": "Message: stale element reference: stale element not found\n  (Session info: chrome=126.0.6478.56); For documentation on this error, please visit: https://www.selenium.dev/documentation/webdriver/troubleshooting/errors#stale-element-reference-exception\nStacktrace:\n\tGetHandleVerifier [0x00007FF6622D1F52+60322]\n\t(No symbol) [0x00007FF66224CEC9]\n\t(No symbol) [0x00007FF662107EBA]\n\t(No symbol) [0x00007FF66211A2CD]\n\t(No symbol) [0x00007FF66211AD5A]\n\t(No symbol) [0x00007FF66210ED69]\n\t(No symbol) [0x00007FF66210CAB6]\n\t(No symbol) [0x00007FF662110641]\n\t(No symbol) [0x00007FF6621106E0]\n\t(No symbol) [0x00007FF66215968C]\n\t(No symbol) [0x00007FF66214B346]\n\t(No symbol) [0x00007FF66217C21A]\n\t(No symbol) [0x00007FF66214ADB6]\n\t(No symbol) [0x00007FF66217C430]\n\t(No symbol) [0x00007FF66219BC80]\n\t(No symbol) [0x00007FF66217BFC3]\n\t(No symbol) [0x00007FF662149617]\n\t(No symbol) [0x00007FF66214A211]\n\tGetHandleVerifier [0x00007FF6625E94AD+3301629]\n\tGetHandleVerifier [0x00007FF6626336D3+3605283]\n\tGetHandleVerifier [0x00007FF662629450+3563680]\n\tGetHandleVerifier [0x00007FF662384326+790390]\n\t(No symbol) [0x00007FF66225750F]\n\t(No symbol) [0x00007FF662253404]\n\t(No symbol) [0x00007FF662253592]\n\t(No symbol) [0x00007FF662242F9F]\n\tBaseThreadInitThunk [0x00007FFB4F557344+20]\n\tRtlUserThreadStart [0x00007FFB512FCC91+33]\n",
     "output_type": "error",
     "traceback": [
      "\u001b[1;31m---------------------------------------------------------------------------\u001b[0m",
      "\u001b[1;31mStaleElementReferenceException\u001b[0m            Traceback (most recent call last)",
      "Cell \u001b[1;32mIn[137], line 4\u001b[0m\n\u001b[0;32m      2\u001b[0m clase_link_producto \u001b[38;5;241m=\u001b[39m \u001b[38;5;124m'\u001b[39m\u001b[38;5;124ma-link-normal\u001b[39m\u001b[38;5;124m'\u001b[39m\n\u001b[0;32m      3\u001b[0m clase_link_hijo \u001b[38;5;241m=\u001b[39m \u001b[38;5;124m'\u001b[39m\u001b[38;5;124maok-block\u001b[39m\u001b[38;5;124m'\u001b[39m\n\u001b[1;32m----> 4\u001b[0m \u001b[43murls_ver_mas\u001b[49m\u001b[43m[\u001b[49m\u001b[38;5;241;43m1\u001b[39;49m\u001b[43m]\u001b[49m\u001b[38;5;241;43m.\u001b[39;49m\u001b[43mclick\u001b[49m\u001b[43m(\u001b[49m\u001b[43m)\u001b[49m\n\u001b[0;32m      5\u001b[0m driver\u001b[38;5;241m.\u001b[39mimplicitly_wait(\u001b[38;5;241m10\u001b[39m)\n\u001b[0;32m      6\u001b[0m urls_todos_productos \u001b[38;5;241m=\u001b[39m driver\u001b[38;5;241m.\u001b[39mfind_elements(By\u001b[38;5;241m.\u001b[39mCLASS_NAME, clase_link_hijo)\n",
      "File \u001b[1;32mc:\\Users\\pabma\\AppData\\Local\\Programs\\Python\\Python312\\Lib\\site-packages\\selenium\\webdriver\\remote\\webelement.py:94\u001b[0m, in \u001b[0;36mWebElement.click\u001b[1;34m(self)\u001b[0m\n\u001b[0;32m     92\u001b[0m \u001b[38;5;28;01mdef\u001b[39;00m \u001b[38;5;21mclick\u001b[39m(\u001b[38;5;28mself\u001b[39m) \u001b[38;5;241m-\u001b[39m\u001b[38;5;241m>\u001b[39m \u001b[38;5;28;01mNone\u001b[39;00m:\n\u001b[0;32m     93\u001b[0m \u001b[38;5;250m    \u001b[39m\u001b[38;5;124;03m\"\"\"Clicks the element.\"\"\"\u001b[39;00m\n\u001b[1;32m---> 94\u001b[0m     \u001b[38;5;28;43mself\u001b[39;49m\u001b[38;5;241;43m.\u001b[39;49m\u001b[43m_execute\u001b[49m\u001b[43m(\u001b[49m\u001b[43mCommand\u001b[49m\u001b[38;5;241;43m.\u001b[39;49m\u001b[43mCLICK_ELEMENT\u001b[49m\u001b[43m)\u001b[49m\n",
      "File \u001b[1;32mc:\\Users\\pabma\\AppData\\Local\\Programs\\Python\\Python312\\Lib\\site-packages\\selenium\\webdriver\\remote\\webelement.py:395\u001b[0m, in \u001b[0;36mWebElement._execute\u001b[1;34m(self, command, params)\u001b[0m\n\u001b[0;32m    393\u001b[0m     params \u001b[38;5;241m=\u001b[39m {}\n\u001b[0;32m    394\u001b[0m params[\u001b[38;5;124m\"\u001b[39m\u001b[38;5;124mid\u001b[39m\u001b[38;5;124m\"\u001b[39m] \u001b[38;5;241m=\u001b[39m \u001b[38;5;28mself\u001b[39m\u001b[38;5;241m.\u001b[39m_id\n\u001b[1;32m--> 395\u001b[0m \u001b[38;5;28;01mreturn\u001b[39;00m \u001b[38;5;28;43mself\u001b[39;49m\u001b[38;5;241;43m.\u001b[39;49m\u001b[43m_parent\u001b[49m\u001b[38;5;241;43m.\u001b[39;49m\u001b[43mexecute\u001b[49m\u001b[43m(\u001b[49m\u001b[43mcommand\u001b[49m\u001b[43m,\u001b[49m\u001b[43m \u001b[49m\u001b[43mparams\u001b[49m\u001b[43m)\u001b[49m\n",
      "File \u001b[1;32mc:\\Users\\pabma\\AppData\\Local\\Programs\\Python\\Python312\\Lib\\site-packages\\selenium\\webdriver\\remote\\webdriver.py:347\u001b[0m, in \u001b[0;36mWebDriver.execute\u001b[1;34m(self, driver_command, params)\u001b[0m\n\u001b[0;32m    345\u001b[0m response \u001b[38;5;241m=\u001b[39m \u001b[38;5;28mself\u001b[39m\u001b[38;5;241m.\u001b[39mcommand_executor\u001b[38;5;241m.\u001b[39mexecute(driver_command, params)\n\u001b[0;32m    346\u001b[0m \u001b[38;5;28;01mif\u001b[39;00m response:\n\u001b[1;32m--> 347\u001b[0m     \u001b[38;5;28;43mself\u001b[39;49m\u001b[38;5;241;43m.\u001b[39;49m\u001b[43merror_handler\u001b[49m\u001b[38;5;241;43m.\u001b[39;49m\u001b[43mcheck_response\u001b[49m\u001b[43m(\u001b[49m\u001b[43mresponse\u001b[49m\u001b[43m)\u001b[49m\n\u001b[0;32m    348\u001b[0m     response[\u001b[38;5;124m\"\u001b[39m\u001b[38;5;124mvalue\u001b[39m\u001b[38;5;124m\"\u001b[39m] \u001b[38;5;241m=\u001b[39m \u001b[38;5;28mself\u001b[39m\u001b[38;5;241m.\u001b[39m_unwrap_value(response\u001b[38;5;241m.\u001b[39mget(\u001b[38;5;124m\"\u001b[39m\u001b[38;5;124mvalue\u001b[39m\u001b[38;5;124m\"\u001b[39m, \u001b[38;5;28;01mNone\u001b[39;00m))\n\u001b[0;32m    349\u001b[0m     \u001b[38;5;28;01mreturn\u001b[39;00m response\n",
      "File \u001b[1;32mc:\\Users\\pabma\\AppData\\Local\\Programs\\Python\\Python312\\Lib\\site-packages\\selenium\\webdriver\\remote\\errorhandler.py:229\u001b[0m, in \u001b[0;36mErrorHandler.check_response\u001b[1;34m(self, response)\u001b[0m\n\u001b[0;32m    227\u001b[0m         alert_text \u001b[38;5;241m=\u001b[39m value[\u001b[38;5;124m\"\u001b[39m\u001b[38;5;124malert\u001b[39m\u001b[38;5;124m\"\u001b[39m]\u001b[38;5;241m.\u001b[39mget(\u001b[38;5;124m\"\u001b[39m\u001b[38;5;124mtext\u001b[39m\u001b[38;5;124m\"\u001b[39m)\n\u001b[0;32m    228\u001b[0m     \u001b[38;5;28;01mraise\u001b[39;00m exception_class(message, screen, stacktrace, alert_text)  \u001b[38;5;66;03m# type: ignore[call-arg]  # mypy is not smart enough here\u001b[39;00m\n\u001b[1;32m--> 229\u001b[0m \u001b[38;5;28;01mraise\u001b[39;00m exception_class(message, screen, stacktrace)\n",
      "\u001b[1;31mStaleElementReferenceException\u001b[0m: Message: stale element reference: stale element not found\n  (Session info: chrome=126.0.6478.56); For documentation on this error, please visit: https://www.selenium.dev/documentation/webdriver/troubleshooting/errors#stale-element-reference-exception\nStacktrace:\n\tGetHandleVerifier [0x00007FF6622D1F52+60322]\n\t(No symbol) [0x00007FF66224CEC9]\n\t(No symbol) [0x00007FF662107EBA]\n\t(No symbol) [0x00007FF66211A2CD]\n\t(No symbol) [0x00007FF66211AD5A]\n\t(No symbol) [0x00007FF66210ED69]\n\t(No symbol) [0x00007FF66210CAB6]\n\t(No symbol) [0x00007FF662110641]\n\t(No symbol) [0x00007FF6621106E0]\n\t(No symbol) [0x00007FF66215968C]\n\t(No symbol) [0x00007FF66214B346]\n\t(No symbol) [0x00007FF66217C21A]\n\t(No symbol) [0x00007FF66214ADB6]\n\t(No symbol) [0x00007FF66217C430]\n\t(No symbol) [0x00007FF66219BC80]\n\t(No symbol) [0x00007FF66217BFC3]\n\t(No symbol) [0x00007FF662149617]\n\t(No symbol) [0x00007FF66214A211]\n\tGetHandleVerifier [0x00007FF6625E94AD+3301629]\n\tGetHandleVerifier [0x00007FF6626336D3+3605283]\n\tGetHandleVerifier [0x00007FF662629450+3563680]\n\tGetHandleVerifier [0x00007FF662384326+790390]\n\t(No symbol) [0x00007FF66225750F]\n\t(No symbol) [0x00007FF662253404]\n\t(No symbol) [0x00007FF662253592]\n\t(No symbol) [0x00007FF662242F9F]\n\tBaseThreadInitThunk [0x00007FFB4F557344+20]\n\tRtlUserThreadStart [0x00007FFB512FCC91+33]\n"
     ]
    }
   ],
   "source": [
    "# Comprobamos si dentro de una url comprobamos el href de algun producto\n",
    "clase_link_producto = 'a-link-normal'\n",
    "clase_link_hijo = 'aok-block'\n",
    "urls_ver_mas[1].click()\n",
    "driver.implicitly_wait(10)\n",
    "urls_todos_productos = driver.find_elements(By.CLASS_NAME, clase_link_hijo)\n",
    "driver.implicitly_wait(10)\n",
    "\n",
    "print(urls_todos_productos[2].get_attribute('href'))\n",
    "driver.back()"
   ]
  },
  {
   "cell_type": "code",
   "execution_count": 98,
   "metadata": {},
   "outputs": [
    {
     "data": {
      "text/plain": [
       "<div aria-expanded=\"false\" class=\"a-expander-content reviewText review-text-content a-expander-partial-collapse-content\" data-hook=\"review-collapsed\"></div>"
      ]
     },
     "execution_count": 98,
     "metadata": {},
     "output_type": "execute_result"
    }
   ],
   "source": [
    "reseñas_en_div[5] # reseña numero 6 del producto en moviles \"Apple iPhone 13, 128GB, Blanco estrella - (Reacondicionado)\" no tiene sspan o por algun\n",
    "# motivo no lo ha econtrado\n",
    "# Da error porque no tiene ninguna reseña, solo valoración en estrellas y una foto"
   ]
  },
  {
   "cell_type": "code",
   "execution_count": 9,
   "metadata": {},
   "outputs": [
    {
     "ename": "StaleElementReferenceException",
     "evalue": "Message: stale element reference: stale element not found\n  (Session info: chrome=126.0.6478.56); For documentation on this error, please visit: https://www.selenium.dev/documentation/webdriver/troubleshooting/errors#stale-element-reference-exception\nStacktrace:\n\tGetHandleVerifier [0x00007FF6622D1F52+60322]\n\t(No symbol) [0x00007FF66224CEC9]\n\t(No symbol) [0x00007FF662107EBA]\n\t(No symbol) [0x00007FF66211A2CD]\n\t(No symbol) [0x00007FF66211AD5A]\n\t(No symbol) [0x00007FF66210ED69]\n\t(No symbol) [0x00007FF66211AD98]\n\t(No symbol) [0x00007FF66210ED69]\n\t(No symbol) [0x00007FF66210CAB6]\n\t(No symbol) [0x00007FF662110968]\n\t(No symbol) [0x00007FF66219C95B]\n\t(No symbol) [0x00007FF66217C21A]\n\t(No symbol) [0x00007FF66219BC80]\n\t(No symbol) [0x00007FF66217BFC3]\n\t(No symbol) [0x00007FF662149617]\n\t(No symbol) [0x00007FF66214A211]\n\tGetHandleVerifier [0x00007FF6625E94AD+3301629]\n\tGetHandleVerifier [0x00007FF6626336D3+3605283]\n\tGetHandleVerifier [0x00007FF662629450+3563680]\n\tGetHandleVerifier [0x00007FF662384326+790390]\n\t(No symbol) [0x00007FF66225750F]\n\t(No symbol) [0x00007FF662253404]\n\t(No symbol) [0x00007FF662253592]\n\t(No symbol) [0x00007FF662242F9F]\n\tBaseThreadInitThunk [0x00007FFB4F557344+20]\n\tRtlUserThreadStart [0x00007FFB512FCC91+33]\n",
     "output_type": "error",
     "traceback": [
      "\u001b[1;31m---------------------------------------------------------------------------\u001b[0m",
      "\u001b[1;31mStaleElementReferenceException\u001b[0m            Traceback (most recent call last)",
      "Cell \u001b[1;32mIn[9], line 1\u001b[0m\n\u001b[1;32m----> 1\u001b[0m \u001b[43murls_todos_productos\u001b[49m\u001b[43m[\u001b[49m\u001b[38;5;241;43m1\u001b[39;49m\u001b[43m]\u001b[49m\u001b[38;5;241;43m.\u001b[39;49m\u001b[43mget_attribute\u001b[49m\u001b[43m(\u001b[49m\u001b[38;5;124;43m'\u001b[39;49m\u001b[38;5;124;43mhref\u001b[39;49m\u001b[38;5;124;43m'\u001b[39;49m\u001b[43m)\u001b[49m\n",
      "File \u001b[1;32mc:\\Users\\pabma\\AppData\\Local\\Programs\\Python\\Python312\\Lib\\site-packages\\selenium\\webdriver\\remote\\webelement.py:178\u001b[0m, in \u001b[0;36mWebElement.get_attribute\u001b[1;34m(self, name)\u001b[0m\n\u001b[0;32m    176\u001b[0m \u001b[38;5;28;01mif\u001b[39;00m getAttribute_js \u001b[38;5;129;01mis\u001b[39;00m \u001b[38;5;28;01mNone\u001b[39;00m:\n\u001b[0;32m    177\u001b[0m     _load_js()\n\u001b[1;32m--> 178\u001b[0m attribute_value \u001b[38;5;241m=\u001b[39m \u001b[38;5;28;43mself\u001b[39;49m\u001b[38;5;241;43m.\u001b[39;49m\u001b[43mparent\u001b[49m\u001b[38;5;241;43m.\u001b[39;49m\u001b[43mexecute_script\u001b[49m\u001b[43m(\u001b[49m\n\u001b[0;32m    179\u001b[0m \u001b[43m    \u001b[49m\u001b[38;5;124;43mf\u001b[39;49m\u001b[38;5;124;43m\"\u001b[39;49m\u001b[38;5;124;43m/* getAttribute */return (\u001b[39;49m\u001b[38;5;132;43;01m{\u001b[39;49;00m\u001b[43mgetAttribute_js\u001b[49m\u001b[38;5;132;43;01m}\u001b[39;49;00m\u001b[38;5;124;43m).apply(null, arguments);\u001b[39;49m\u001b[38;5;124;43m\"\u001b[39;49m\u001b[43m,\u001b[49m\u001b[43m \u001b[49m\u001b[38;5;28;43mself\u001b[39;49m\u001b[43m,\u001b[49m\u001b[43m \u001b[49m\u001b[43mname\u001b[49m\n\u001b[0;32m    180\u001b[0m \u001b[43m\u001b[49m\u001b[43m)\u001b[49m\n\u001b[0;32m    181\u001b[0m \u001b[38;5;28;01mreturn\u001b[39;00m attribute_value\n",
      "File \u001b[1;32mc:\\Users\\pabma\\AppData\\Local\\Programs\\Python\\Python312\\Lib\\site-packages\\selenium\\webdriver\\remote\\webdriver.py:407\u001b[0m, in \u001b[0;36mWebDriver.execute_script\u001b[1;34m(self, script, *args)\u001b[0m\n\u001b[0;32m    404\u001b[0m converted_args \u001b[38;5;241m=\u001b[39m \u001b[38;5;28mlist\u001b[39m(args)\n\u001b[0;32m    405\u001b[0m command \u001b[38;5;241m=\u001b[39m Command\u001b[38;5;241m.\u001b[39mW3C_EXECUTE_SCRIPT\n\u001b[1;32m--> 407\u001b[0m \u001b[38;5;28;01mreturn\u001b[39;00m \u001b[38;5;28;43mself\u001b[39;49m\u001b[38;5;241;43m.\u001b[39;49m\u001b[43mexecute\u001b[49m\u001b[43m(\u001b[49m\u001b[43mcommand\u001b[49m\u001b[43m,\u001b[49m\u001b[43m \u001b[49m\u001b[43m{\u001b[49m\u001b[38;5;124;43m\"\u001b[39;49m\u001b[38;5;124;43mscript\u001b[39;49m\u001b[38;5;124;43m\"\u001b[39;49m\u001b[43m:\u001b[49m\u001b[43m \u001b[49m\u001b[43mscript\u001b[49m\u001b[43m,\u001b[49m\u001b[43m \u001b[49m\u001b[38;5;124;43m\"\u001b[39;49m\u001b[38;5;124;43margs\u001b[39;49m\u001b[38;5;124;43m\"\u001b[39;49m\u001b[43m:\u001b[49m\u001b[43m \u001b[49m\u001b[43mconverted_args\u001b[49m\u001b[43m}\u001b[49m\u001b[43m)\u001b[49m[\u001b[38;5;124m\"\u001b[39m\u001b[38;5;124mvalue\u001b[39m\u001b[38;5;124m\"\u001b[39m]\n",
      "File \u001b[1;32mc:\\Users\\pabma\\AppData\\Local\\Programs\\Python\\Python312\\Lib\\site-packages\\selenium\\webdriver\\remote\\webdriver.py:347\u001b[0m, in \u001b[0;36mWebDriver.execute\u001b[1;34m(self, driver_command, params)\u001b[0m\n\u001b[0;32m    345\u001b[0m response \u001b[38;5;241m=\u001b[39m \u001b[38;5;28mself\u001b[39m\u001b[38;5;241m.\u001b[39mcommand_executor\u001b[38;5;241m.\u001b[39mexecute(driver_command, params)\n\u001b[0;32m    346\u001b[0m \u001b[38;5;28;01mif\u001b[39;00m response:\n\u001b[1;32m--> 347\u001b[0m     \u001b[38;5;28;43mself\u001b[39;49m\u001b[38;5;241;43m.\u001b[39;49m\u001b[43merror_handler\u001b[49m\u001b[38;5;241;43m.\u001b[39;49m\u001b[43mcheck_response\u001b[49m\u001b[43m(\u001b[49m\u001b[43mresponse\u001b[49m\u001b[43m)\u001b[49m\n\u001b[0;32m    348\u001b[0m     response[\u001b[38;5;124m\"\u001b[39m\u001b[38;5;124mvalue\u001b[39m\u001b[38;5;124m\"\u001b[39m] \u001b[38;5;241m=\u001b[39m \u001b[38;5;28mself\u001b[39m\u001b[38;5;241m.\u001b[39m_unwrap_value(response\u001b[38;5;241m.\u001b[39mget(\u001b[38;5;124m\"\u001b[39m\u001b[38;5;124mvalue\u001b[39m\u001b[38;5;124m\"\u001b[39m, \u001b[38;5;28;01mNone\u001b[39;00m))\n\u001b[0;32m    349\u001b[0m     \u001b[38;5;28;01mreturn\u001b[39;00m response\n",
      "File \u001b[1;32mc:\\Users\\pabma\\AppData\\Local\\Programs\\Python\\Python312\\Lib\\site-packages\\selenium\\webdriver\\remote\\errorhandler.py:229\u001b[0m, in \u001b[0;36mErrorHandler.check_response\u001b[1;34m(self, response)\u001b[0m\n\u001b[0;32m    227\u001b[0m         alert_text \u001b[38;5;241m=\u001b[39m value[\u001b[38;5;124m\"\u001b[39m\u001b[38;5;124malert\u001b[39m\u001b[38;5;124m\"\u001b[39m]\u001b[38;5;241m.\u001b[39mget(\u001b[38;5;124m\"\u001b[39m\u001b[38;5;124mtext\u001b[39m\u001b[38;5;124m\"\u001b[39m)\n\u001b[0;32m    228\u001b[0m     \u001b[38;5;28;01mraise\u001b[39;00m exception_class(message, screen, stacktrace, alert_text)  \u001b[38;5;66;03m# type: ignore[call-arg]  # mypy is not smart enough here\u001b[39;00m\n\u001b[1;32m--> 229\u001b[0m \u001b[38;5;28;01mraise\u001b[39;00m exception_class(message, screen, stacktrace)\n",
      "\u001b[1;31mStaleElementReferenceException\u001b[0m: Message: stale element reference: stale element not found\n  (Session info: chrome=126.0.6478.56); For documentation on this error, please visit: https://www.selenium.dev/documentation/webdriver/troubleshooting/errors#stale-element-reference-exception\nStacktrace:\n\tGetHandleVerifier [0x00007FF6622D1F52+60322]\n\t(No symbol) [0x00007FF66224CEC9]\n\t(No symbol) [0x00007FF662107EBA]\n\t(No symbol) [0x00007FF66211A2CD]\n\t(No symbol) [0x00007FF66211AD5A]\n\t(No symbol) [0x00007FF66210ED69]\n\t(No symbol) [0x00007FF66211AD98]\n\t(No symbol) [0x00007FF66210ED69]\n\t(No symbol) [0x00007FF66210CAB6]\n\t(No symbol) [0x00007FF662110968]\n\t(No symbol) [0x00007FF66219C95B]\n\t(No symbol) [0x00007FF66217C21A]\n\t(No symbol) [0x00007FF66219BC80]\n\t(No symbol) [0x00007FF66217BFC3]\n\t(No symbol) [0x00007FF662149617]\n\t(No symbol) [0x00007FF66214A211]\n\tGetHandleVerifier [0x00007FF6625E94AD+3301629]\n\tGetHandleVerifier [0x00007FF6626336D3+3605283]\n\tGetHandleVerifier [0x00007FF662629450+3563680]\n\tGetHandleVerifier [0x00007FF662384326+790390]\n\t(No symbol) [0x00007FF66225750F]\n\t(No symbol) [0x00007FF662253404]\n\t(No symbol) [0x00007FF662253592]\n\t(No symbol) [0x00007FF662242F9F]\n\tBaseThreadInitThunk [0x00007FFB4F557344+20]\n\tRtlUserThreadStart [0x00007FFB512FCC91+33]\n"
     ]
    }
   ],
   "source": [
    "urls_todos_productos[1].get_attribute('href')"
   ]
  }
 ],
 "metadata": {
  "kernelspec": {
   "display_name": "Python 3",
   "language": "python",
   "name": "python3"
  },
  "language_info": {
   "codemirror_mode": {
    "name": "ipython",
    "version": 3
   },
   "file_extension": ".py",
   "mimetype": "text/x-python",
   "name": "python",
   "nbconvert_exporter": "python",
   "pygments_lexer": "ipython3",
   "version": "3.12.1"
  }
 },
 "nbformat": 4,
 "nbformat_minor": 2
}
