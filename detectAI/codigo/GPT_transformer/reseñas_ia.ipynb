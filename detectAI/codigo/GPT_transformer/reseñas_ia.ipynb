{
 "cells": [
  {
   "cell_type": "code",
   "execution_count": 6,
   "metadata": {},
   "outputs": [],
   "source": [
    "import pandas as pd\n",
    "from gpt_API import gpt_reviewer"
   ]
  },
  {
   "cell_type": "code",
   "execution_count": 7,
   "metadata": {},
   "outputs": [],
   "source": [
    "df_humano = pd.read_csv('data/df_reseñas_humanas.csv')"
   ]
  },
  {
   "cell_type": "code",
   "execution_count": 8,
   "metadata": {},
   "outputs": [
    {
     "data": {
      "text/html": [
       "<div>\n",
       "<style scoped>\n",
       "    .dataframe tbody tr th:only-of-type {\n",
       "        vertical-align: middle;\n",
       "    }\n",
       "\n",
       "    .dataframe tbody tr th {\n",
       "        vertical-align: top;\n",
       "    }\n",
       "\n",
       "    .dataframe thead th {\n",
       "        text-align: right;\n",
       "    }\n",
       "</style>\n",
       "<table border=\"1\" class=\"dataframe\">\n",
       "  <thead>\n",
       "    <tr style=\"text-align: right;\">\n",
       "      <th></th>\n",
       "      <th>reseñas_humanas</th>\n",
       "      <th>nombre_producto</th>\n",
       "      <th>categoria_producto</th>\n",
       "      <th>longitud</th>\n",
       "      <th>idioma_original</th>\n",
       "      <th>idioma</th>\n",
       "      <th>IA</th>\n",
       "      <th>tipo</th>\n",
       "    </tr>\n",
       "  </thead>\n",
       "  <tbody>\n",
       "    <tr>\n",
       "      <th>0</th>\n",
       "      <td>Necesitaba un nuevo movil y me decidí por este...</td>\n",
       "      <td>Apple iPhone 12, 128GB, Negro - (Reaco...</td>\n",
       "      <td>Amazon Renewed</td>\n",
       "      <td>297</td>\n",
       "      <td>es</td>\n",
       "      <td>es</td>\n",
       "      <td>0</td>\n",
       "      <td>grande</td>\n",
       "    </tr>\n",
       "    <tr>\n",
       "      <th>1</th>\n",
       "      <td>Está en perfectas condiciones la batería al 10...</td>\n",
       "      <td>Apple iPhone 12, 128GB, Negro - (Reaco...</td>\n",
       "      <td>Amazon Renewed</td>\n",
       "      <td>99</td>\n",
       "      <td>es</td>\n",
       "      <td>es</td>\n",
       "      <td>0</td>\n",
       "      <td>pequeña</td>\n",
       "    </tr>\n",
       "    <tr>\n",
       "      <th>2</th>\n",
       "      <td>Me llegó ayer el iPhone en perfectas condicion...</td>\n",
       "      <td>Apple iPhone 12, 128GB, Negro - (Reaco...</td>\n",
       "      <td>Amazon Renewed</td>\n",
       "      <td>436</td>\n",
       "      <td>es</td>\n",
       "      <td>es</td>\n",
       "      <td>0</td>\n",
       "      <td>grande</td>\n",
       "    </tr>\n",
       "    <tr>\n",
       "      <th>3</th>\n",
       "      <td>Compré  un iPhone 12 a este vendedor y hace un...</td>\n",
       "      <td>Apple iPhone 12, 128GB, Negro - (Reaco...</td>\n",
       "      <td>Amazon Renewed</td>\n",
       "      <td>657</td>\n",
       "      <td>es</td>\n",
       "      <td>es</td>\n",
       "      <td>0</td>\n",
       "      <td>grande</td>\n",
       "    </tr>\n",
       "    <tr>\n",
       "      <th>4</th>\n",
       "      <td>Soy usuario de IPhone desde el principio. Teng...</td>\n",
       "      <td>Apple iPhone 12, 128GB, Negro - (Reaco...</td>\n",
       "      <td>Amazon Renewed</td>\n",
       "      <td>596</td>\n",
       "      <td>es</td>\n",
       "      <td>es</td>\n",
       "      <td>0</td>\n",
       "      <td>grande</td>\n",
       "    </tr>\n",
       "  </tbody>\n",
       "</table>\n",
       "</div>"
      ],
      "text/plain": [
       "                                     reseñas_humanas  \\\n",
       "0  Necesitaba un nuevo movil y me decidí por este...   \n",
       "1  Está en perfectas condiciones la batería al 10...   \n",
       "2  Me llegó ayer el iPhone en perfectas condicion...   \n",
       "3  Compré  un iPhone 12 a este vendedor y hace un...   \n",
       "4  Soy usuario de IPhone desde el principio. Teng...   \n",
       "\n",
       "                                     nombre_producto categoria_producto  \\\n",
       "0          Apple iPhone 12, 128GB, Negro - (Reaco...     Amazon Renewed   \n",
       "1          Apple iPhone 12, 128GB, Negro - (Reaco...     Amazon Renewed   \n",
       "2          Apple iPhone 12, 128GB, Negro - (Reaco...     Amazon Renewed   \n",
       "3          Apple iPhone 12, 128GB, Negro - (Reaco...     Amazon Renewed   \n",
       "4          Apple iPhone 12, 128GB, Negro - (Reaco...     Amazon Renewed   \n",
       "\n",
       "   longitud idioma_original idioma  IA     tipo  \n",
       "0       297              es     es   0   grande  \n",
       "1        99              es     es   0  pequeña  \n",
       "2       436              es     es   0   grande  \n",
       "3       657              es     es   0   grande  \n",
       "4       596              es     es   0   grande  "
      ]
     },
     "execution_count": 8,
     "metadata": {},
     "output_type": "execute_result"
    }
   ],
   "source": [
    "df_humano.head()"
   ]
  },
  {
   "cell_type": "code",
   "execution_count": 9,
   "metadata": {},
   "outputs": [],
   "source": [
    "# Vamos a hacer una prueba con reseñas de 3 tipos distintos\n",
    "reseña_ejemplo_pequeña = df_humano[df_humano['tipo'] == 'pequeña'].iloc[:1]\n",
    "reseña_ejemplo_mediana = df_humano[df_humano['tipo'] == 'mediana'].iloc[:1]\n",
    "reseña_ejemplo_grande = df_humano[df_humano['tipo'] == 'grande'].iloc[:1]"
   ]
  },
  {
   "cell_type": "code",
   "execution_count": 10,
   "metadata": {},
   "outputs": [],
   "source": [
    "reseña_ejemplo_pequeña['ia_ejemplo'] = gpt_reviewer(reseña_ejemplo_pequeña['reseñas_humanas'].values[0], reseña_ejemplo_pequeña['longitud'].values[0])\n",
    "reseña_ejemplo_mediana['ia_ejemplo'] = gpt_reviewer(reseña_ejemplo_mediana['reseñas_humanas'].values[0], reseña_ejemplo_mediana['longitud'].values[0])\n",
    "reseña_ejemplo_grande['ia_ejemplo'] = gpt_reviewer(reseña_ejemplo_grande['reseñas_humanas'].values[0], reseña_ejemplo_grande['longitud'].values[0])"
   ]
  },
  {
   "cell_type": "code",
   "execution_count": 11,
   "metadata": {},
   "outputs": [],
   "source": [
    "df_prueba = pd.concat([reseña_ejemplo_pequeña, reseña_ejemplo_mediana, reseña_ejemplo_grande])"
   ]
  },
  {
   "cell_type": "code",
   "execution_count": 12,
   "metadata": {},
   "outputs": [
    {
     "data": {
      "text/html": [
       "<div>\n",
       "<style scoped>\n",
       "    .dataframe tbody tr th:only-of-type {\n",
       "        vertical-align: middle;\n",
       "    }\n",
       "\n",
       "    .dataframe tbody tr th {\n",
       "        vertical-align: top;\n",
       "    }\n",
       "\n",
       "    .dataframe thead th {\n",
       "        text-align: right;\n",
       "    }\n",
       "</style>\n",
       "<table border=\"1\" class=\"dataframe\">\n",
       "  <thead>\n",
       "    <tr style=\"text-align: right;\">\n",
       "      <th></th>\n",
       "      <th>reseñas_humanas</th>\n",
       "      <th>nombre_producto</th>\n",
       "      <th>categoria_producto</th>\n",
       "      <th>longitud</th>\n",
       "      <th>idioma_original</th>\n",
       "      <th>idioma</th>\n",
       "      <th>IA</th>\n",
       "      <th>tipo</th>\n",
       "      <th>ia_ejemplo</th>\n",
       "    </tr>\n",
       "  </thead>\n",
       "  <tbody>\n",
       "    <tr>\n",
       "      <th>1</th>\n",
       "      <td>Está en perfectas condiciones la batería al 10...</td>\n",
       "      <td>Apple iPhone 12, 128GB, Negro - (Reaco...</td>\n",
       "      <td>Amazon Renewed</td>\n",
       "      <td>99</td>\n",
       "      <td>es</td>\n",
       "      <td>es</td>\n",
       "      <td>0</td>\n",
       "      <td>pequeña</td>\n",
       "      <td>La batería se encuentra impecable al 100%, sin...</td>\n",
       "    </tr>\n",
       "    <tr>\n",
       "      <th>16</th>\n",
       "      <td>Después de 3 meses de uso, el móvil da un mens...</td>\n",
       "      <td>Apple iPhone 13, 128GB, Azul - (Reacon...</td>\n",
       "      <td>Amazon Renewed</td>\n",
       "      <td>148</td>\n",
       "      <td>es</td>\n",
       "      <td>es</td>\n",
       "      <td>0</td>\n",
       "      <td>mediana</td>\n",
       "      <td>¡Después de tres meses de uso, mi teléfono emp...</td>\n",
       "    </tr>\n",
       "    <tr>\n",
       "      <th>0</th>\n",
       "      <td>Necesitaba un nuevo movil y me decidí por este...</td>\n",
       "      <td>Apple iPhone 12, 128GB, Negro - (Reaco...</td>\n",
       "      <td>Amazon Renewed</td>\n",
       "      <td>297</td>\n",
       "      <td>es</td>\n",
       "      <td>es</td>\n",
       "      <td>0</td>\n",
       "      <td>grande</td>\n",
       "      <td>Decidí optar por este teléfono reacondicionado...</td>\n",
       "    </tr>\n",
       "  </tbody>\n",
       "</table>\n",
       "</div>"
      ],
      "text/plain": [
       "                                      reseñas_humanas  \\\n",
       "1   Está en perfectas condiciones la batería al 10...   \n",
       "16  Después de 3 meses de uso, el móvil da un mens...   \n",
       "0   Necesitaba un nuevo movil y me decidí por este...   \n",
       "\n",
       "                                      nombre_producto categoria_producto  \\\n",
       "1           Apple iPhone 12, 128GB, Negro - (Reaco...     Amazon Renewed   \n",
       "16          Apple iPhone 13, 128GB, Azul - (Reacon...     Amazon Renewed   \n",
       "0           Apple iPhone 12, 128GB, Negro - (Reaco...     Amazon Renewed   \n",
       "\n",
       "    longitud idioma_original idioma  IA     tipo  \\\n",
       "1         99              es     es   0  pequeña   \n",
       "16       148              es     es   0  mediana   \n",
       "0        297              es     es   0   grande   \n",
       "\n",
       "                                           ia_ejemplo  \n",
       "1   La batería se encuentra impecable al 100%, sin...  \n",
       "16  ¡Después de tres meses de uso, mi teléfono emp...  \n",
       "0   Decidí optar por este teléfono reacondicionado...  "
      ]
     },
     "execution_count": 12,
     "metadata": {},
     "output_type": "execute_result"
    }
   ],
   "source": [
    "df_prueba"
   ]
  },
  {
   "cell_type": "code",
   "execution_count": 13,
   "metadata": {},
   "outputs": [],
   "source": [
    "df_prueba.drop(columns=['nombre_producto', 'longitud', 'idioma', 'idioma_original', 'IA', 'categoria_producto'], inplace=True, errors='ignore')"
   ]
  },
  {
   "cell_type": "code",
   "execution_count": 14,
   "metadata": {},
   "outputs": [
    {
     "name": "stdout",
     "output_type": "stream",
     "text": [
      "Está en perfectas condiciones la batería al 100x100, sin golpes ni arañazos. Funciona perfectamente\n",
      "Después de 3 meses de uso, el móvil da un mensaje en el q dice \"pieza desconocida ...la batería puede no ser original\" y dejó de cargar literalmente\n",
      "Necesitaba un nuevo movil y me decidí por este reacondicionado. Al ser del propio amazon me confie aun mas. Confio mucho en sus productos y en sus servicios. El movil estaba en perfecto estado y funcionando a la perfeccion. Mi unica queja es ajeno a amazon, y es por su compañia de transporte ups.\n"
     ]
    }
   ],
   "source": [
    "for i in range(3):\n",
    "    print(df_prueba.iloc[i]['reseñas_humanas'])"
   ]
  },
  {
   "cell_type": "code",
   "execution_count": 15,
   "metadata": {},
   "outputs": [
    {
     "name": "stdout",
     "output_type": "stream",
     "text": [
      "La batería se encuentra impecable al 100%, sin ningún golpe o rasguño. Su funcionamiento es óptimo, ¡es simplemente perfecta!\n",
      "¡Después de tres meses de uso, mi teléfono empezó a mostrar un mensaje indicando que la batería podía no ser original y dejó de cargar por completo!\n",
      "Decidí optar por este teléfono reacondicionado para satisfacer mis necesidades y la elección no pudo ser mejor. Al ser vendido directamente por Amazon, me sentí aún más seguro en mi compra. Confío plenamente en la calidad de sus productos y en la excelencia de sus servicios. El móvil llegó en perfectas condiciones y funciona de manera impecable. Si bien mi única queja no está relacionada con Amazon, sino con la compañía de transporte UPS, no dudo en recomendar este producto a todos los que busquen calidad y confiabilidad. ¡Una compra que superó mis expectativas!\n"
     ]
    }
   ],
   "source": [
    "for i in range(3):\n",
    "    print(df_prueba.iloc[i]['ia_ejemplo'])"
   ]
  },
  {
   "cell_type": "code",
   "execution_count": 16,
   "metadata": {},
   "outputs": [],
   "source": [
    "df_reseñas_ia = pd.DataFrame()"
   ]
  },
  {
   "cell_type": "code",
   "execution_count": 17,
   "metadata": {},
   "outputs": [
    {
     "data": {
      "text/plain": [
       "0       Necesitaba un nuevo movil y me decidí por este...\n",
       "1       Está en perfectas condiciones la batería al 10...\n",
       "2       Me llegó ayer el iPhone en perfectas condicion...\n",
       "3       Compré  un iPhone 12 a este vendedor y hace un...\n",
       "4       Soy usuario de IPhone desde el principio. Teng...\n",
       "                              ...                        \n",
       "1819              Por la Calidad y el precio es perfecto.\n",
       "1820    Da muy buena luz, instalación depende del plaf...\n",
       "1821    Pues que decir, ilumina bien la luz fría , per...\n",
       "1822    Queda muy bien instalado, es muy plano y da mu...\n",
       "1823    Solo duraron unas pocas docenas de horas. Para...\n",
       "Name: reseñas_humanas, Length: 1824, dtype: object"
      ]
     },
     "execution_count": 17,
     "metadata": {},
     "output_type": "execute_result"
    }
   ],
   "source": [
    "df_humano['reseñas_humanas']"
   ]
  },
  {
   "cell_type": "code",
   "execution_count": 18,
   "metadata": {},
   "outputs": [],
   "source": [
    "df_humano['reseñas_ia'] = df_humano.apply(lambda x: gpt_reviewer(review=x['reseñas_humanas'], longitud=x['longitud']), axis=1)"
   ]
  },
  {
   "cell_type": "code",
   "execution_count": 19,
   "metadata": {},
   "outputs": [],
   "source": [
    "# Guardamos este dataframe para hacer un posible eda\n",
    "df_para_EDA = df_humano.copy()\n",
    "df_para_EDA.to_csv('data/df_para_EDA.csv', index=False)"
   ]
  },
  {
   "cell_type": "code",
   "execution_count": 23,
   "metadata": {},
   "outputs": [
    {
     "data": {
      "text/html": [
       "<div>\n",
       "<style scoped>\n",
       "    .dataframe tbody tr th:only-of-type {\n",
       "        vertical-align: middle;\n",
       "    }\n",
       "\n",
       "    .dataframe tbody tr th {\n",
       "        vertical-align: top;\n",
       "    }\n",
       "\n",
       "    .dataframe thead th {\n",
       "        text-align: right;\n",
       "    }\n",
       "</style>\n",
       "<table border=\"1\" class=\"dataframe\">\n",
       "  <thead>\n",
       "    <tr style=\"text-align: right;\">\n",
       "      <th></th>\n",
       "      <th>reseñas_humanas</th>\n",
       "      <th>nombre_producto</th>\n",
       "      <th>categoria_producto</th>\n",
       "      <th>longitud</th>\n",
       "      <th>idioma_original</th>\n",
       "      <th>idioma</th>\n",
       "      <th>IA</th>\n",
       "      <th>tipo</th>\n",
       "      <th>reseñas_ia</th>\n",
       "    </tr>\n",
       "  </thead>\n",
       "  <tbody>\n",
       "    <tr>\n",
       "      <th>0</th>\n",
       "      <td>Necesitaba un nuevo movil y me decidí por este...</td>\n",
       "      <td>Apple iPhone 12, 128GB, Negro - (Reaco...</td>\n",
       "      <td>Amazon Renewed</td>\n",
       "      <td>297</td>\n",
       "      <td>es</td>\n",
       "      <td>es</td>\n",
       "      <td>0</td>\n",
       "      <td>grande</td>\n",
       "      <td>Al buscar un nuevo celular, opté por este reac...</td>\n",
       "    </tr>\n",
       "    <tr>\n",
       "      <th>1</th>\n",
       "      <td>Está en perfectas condiciones la batería al 10...</td>\n",
       "      <td>Apple iPhone 12, 128GB, Negro - (Reaco...</td>\n",
       "      <td>Amazon Renewed</td>\n",
       "      <td>99</td>\n",
       "      <td>es</td>\n",
       "      <td>es</td>\n",
       "      <td>0</td>\n",
       "      <td>pequeña</td>\n",
       "      <td>La batería se encuentra en excelente estado, a...</td>\n",
       "    </tr>\n",
       "    <tr>\n",
       "      <th>2</th>\n",
       "      <td>Me llegó ayer el iPhone en perfectas condicion...</td>\n",
       "      <td>Apple iPhone 12, 128GB, Negro - (Reaco...</td>\n",
       "      <td>Amazon Renewed</td>\n",
       "      <td>436</td>\n",
       "      <td>es</td>\n",
       "      <td>es</td>\n",
       "      <td>0</td>\n",
       "      <td>grande</td>\n",
       "      <td>Recibí mi iPhone ayer en excelente estado. Aun...</td>\n",
       "    </tr>\n",
       "    <tr>\n",
       "      <th>3</th>\n",
       "      <td>Compré  un iPhone 12 a este vendedor y hace un...</td>\n",
       "      <td>Apple iPhone 12, 128GB, Negro - (Reaco...</td>\n",
       "      <td>Amazon Renewed</td>\n",
       "      <td>657</td>\n",
       "      <td>es</td>\n",
       "      <td>es</td>\n",
       "      <td>0</td>\n",
       "      <td>grande</td>\n",
       "      <td>Recientemente adquirí un iPhone 12 a través de...</td>\n",
       "    </tr>\n",
       "    <tr>\n",
       "      <th>4</th>\n",
       "      <td>Soy usuario de IPhone desde el principio. Teng...</td>\n",
       "      <td>Apple iPhone 12, 128GB, Negro - (Reaco...</td>\n",
       "      <td>Amazon Renewed</td>\n",
       "      <td>596</td>\n",
       "      <td>es</td>\n",
       "      <td>es</td>\n",
       "      <td>0</td>\n",
       "      <td>grande</td>\n",
       "      <td>Como ávido seguidor de la línea de productos d...</td>\n",
       "    </tr>\n",
       "  </tbody>\n",
       "</table>\n",
       "</div>"
      ],
      "text/plain": [
       "                                     reseñas_humanas  \\\n",
       "0  Necesitaba un nuevo movil y me decidí por este...   \n",
       "1  Está en perfectas condiciones la batería al 10...   \n",
       "2  Me llegó ayer el iPhone en perfectas condicion...   \n",
       "3  Compré  un iPhone 12 a este vendedor y hace un...   \n",
       "4  Soy usuario de IPhone desde el principio. Teng...   \n",
       "\n",
       "                                     nombre_producto categoria_producto  \\\n",
       "0          Apple iPhone 12, 128GB, Negro - (Reaco...     Amazon Renewed   \n",
       "1          Apple iPhone 12, 128GB, Negro - (Reaco...     Amazon Renewed   \n",
       "2          Apple iPhone 12, 128GB, Negro - (Reaco...     Amazon Renewed   \n",
       "3          Apple iPhone 12, 128GB, Negro - (Reaco...     Amazon Renewed   \n",
       "4          Apple iPhone 12, 128GB, Negro - (Reaco...     Amazon Renewed   \n",
       "\n",
       "   longitud idioma_original idioma  IA     tipo  \\\n",
       "0       297              es     es   0   grande   \n",
       "1        99              es     es   0  pequeña   \n",
       "2       436              es     es   0   grande   \n",
       "3       657              es     es   0   grande   \n",
       "4       596              es     es   0   grande   \n",
       "\n",
       "                                          reseñas_ia  \n",
       "0  Al buscar un nuevo celular, opté por este reac...  \n",
       "1  La batería se encuentra en excelente estado, a...  \n",
       "2  Recibí mi iPhone ayer en excelente estado. Aun...  \n",
       "3  Recientemente adquirí un iPhone 12 a través de...  \n",
       "4  Como ávido seguidor de la línea de productos d...  "
      ]
     },
     "execution_count": 23,
     "metadata": {},
     "output_type": "execute_result"
    }
   ],
   "source": [
    "df_para_EDA.head()"
   ]
  },
  {
   "cell_type": "code",
   "execution_count": 31,
   "metadata": {},
   "outputs": [],
   "source": [
    "# Ahora creamos el dataframe para el modelo de clasificacion\n",
    "df_ia = pd.DataFrame(df_para_EDA['reseñas_ia'])\n",
    "df_non_ia = pd.DataFrame(df_para_EDA['reseñas_humanas'])"
   ]
  },
  {
   "cell_type": "code",
   "execution_count": 32,
   "metadata": {},
   "outputs": [],
   "source": [
    "df_ia['IA'] = 1\n",
    "df_non_ia['IA'] = 0"
   ]
  },
  {
   "cell_type": "code",
   "execution_count": 34,
   "metadata": {},
   "outputs": [
    {
     "data": {
      "text/html": [
       "<div>\n",
       "<style scoped>\n",
       "    .dataframe tbody tr th:only-of-type {\n",
       "        vertical-align: middle;\n",
       "    }\n",
       "\n",
       "    .dataframe tbody tr th {\n",
       "        vertical-align: top;\n",
       "    }\n",
       "\n",
       "    .dataframe thead th {\n",
       "        text-align: right;\n",
       "    }\n",
       "</style>\n",
       "<table border=\"1\" class=\"dataframe\">\n",
       "  <thead>\n",
       "    <tr style=\"text-align: right;\">\n",
       "      <th></th>\n",
       "      <th>reseñas_ia</th>\n",
       "      <th>IA</th>\n",
       "    </tr>\n",
       "  </thead>\n",
       "  <tbody>\n",
       "    <tr>\n",
       "      <th>0</th>\n",
       "      <td>Al buscar un nuevo celular, opté por este reac...</td>\n",
       "      <td>1</td>\n",
       "    </tr>\n",
       "    <tr>\n",
       "      <th>1</th>\n",
       "      <td>La batería se encuentra en excelente estado, a...</td>\n",
       "      <td>1</td>\n",
       "    </tr>\n",
       "    <tr>\n",
       "      <th>2</th>\n",
       "      <td>Recibí mi iPhone ayer en excelente estado. Aun...</td>\n",
       "      <td>1</td>\n",
       "    </tr>\n",
       "    <tr>\n",
       "      <th>3</th>\n",
       "      <td>Recientemente adquirí un iPhone 12 a través de...</td>\n",
       "      <td>1</td>\n",
       "    </tr>\n",
       "    <tr>\n",
       "      <th>4</th>\n",
       "      <td>Como ávido seguidor de la línea de productos d...</td>\n",
       "      <td>1</td>\n",
       "    </tr>\n",
       "  </tbody>\n",
       "</table>\n",
       "</div>"
      ],
      "text/plain": [
       "                                          reseñas_ia  IA\n",
       "0  Al buscar un nuevo celular, opté por este reac...   1\n",
       "1  La batería se encuentra en excelente estado, a...   1\n",
       "2  Recibí mi iPhone ayer en excelente estado. Aun...   1\n",
       "3  Recientemente adquirí un iPhone 12 a través de...   1\n",
       "4  Como ávido seguidor de la línea de productos d...   1"
      ]
     },
     "execution_count": 34,
     "metadata": {},
     "output_type": "execute_result"
    }
   ],
   "source": [
    "df_ia.head()"
   ]
  },
  {
   "cell_type": "code",
   "execution_count": 35,
   "metadata": {},
   "outputs": [
    {
     "data": {
      "text/html": [
       "<div>\n",
       "<style scoped>\n",
       "    .dataframe tbody tr th:only-of-type {\n",
       "        vertical-align: middle;\n",
       "    }\n",
       "\n",
       "    .dataframe tbody tr th {\n",
       "        vertical-align: top;\n",
       "    }\n",
       "\n",
       "    .dataframe thead th {\n",
       "        text-align: right;\n",
       "    }\n",
       "</style>\n",
       "<table border=\"1\" class=\"dataframe\">\n",
       "  <thead>\n",
       "    <tr style=\"text-align: right;\">\n",
       "      <th></th>\n",
       "      <th>reseñas_humanas</th>\n",
       "      <th>IA</th>\n",
       "    </tr>\n",
       "  </thead>\n",
       "  <tbody>\n",
       "    <tr>\n",
       "      <th>0</th>\n",
       "      <td>Necesitaba un nuevo movil y me decidí por este...</td>\n",
       "      <td>0</td>\n",
       "    </tr>\n",
       "    <tr>\n",
       "      <th>1</th>\n",
       "      <td>Está en perfectas condiciones la batería al 10...</td>\n",
       "      <td>0</td>\n",
       "    </tr>\n",
       "    <tr>\n",
       "      <th>2</th>\n",
       "      <td>Me llegó ayer el iPhone en perfectas condicion...</td>\n",
       "      <td>0</td>\n",
       "    </tr>\n",
       "    <tr>\n",
       "      <th>3</th>\n",
       "      <td>Compré  un iPhone 12 a este vendedor y hace un...</td>\n",
       "      <td>0</td>\n",
       "    </tr>\n",
       "    <tr>\n",
       "      <th>4</th>\n",
       "      <td>Soy usuario de IPhone desde el principio. Teng...</td>\n",
       "      <td>0</td>\n",
       "    </tr>\n",
       "  </tbody>\n",
       "</table>\n",
       "</div>"
      ],
      "text/plain": [
       "                                     reseñas_humanas  IA\n",
       "0  Necesitaba un nuevo movil y me decidí por este...   0\n",
       "1  Está en perfectas condiciones la batería al 10...   0\n",
       "2  Me llegó ayer el iPhone en perfectas condicion...   0\n",
       "3  Compré  un iPhone 12 a este vendedor y hace un...   0\n",
       "4  Soy usuario de IPhone desde el principio. Teng...   0"
      ]
     },
     "execution_count": 35,
     "metadata": {},
     "output_type": "execute_result"
    }
   ],
   "source": [
    "df_non_ia.head()"
   ]
  },
  {
   "cell_type": "code",
   "execution_count": 38,
   "metadata": {},
   "outputs": [],
   "source": [
    "df_non_ia.columns = ['reseñas', 'IA']\n",
    "df_ia.columns = ['reseñas', 'IA']"
   ]
  },
  {
   "cell_type": "code",
   "execution_count": 39,
   "metadata": {},
   "outputs": [],
   "source": [
    "df_clasificación = pd.concat([df_non_ia, df_ia])"
   ]
  },
  {
   "cell_type": "code",
   "execution_count": 41,
   "metadata": {},
   "outputs": [],
   "source": [
    "df_clasificación['longitud'] = df_clasificación['reseñas'].apply(lambda x: len(x))"
   ]
  },
  {
   "cell_type": "code",
   "execution_count": 42,
   "metadata": {},
   "outputs": [
    {
     "data": {
      "text/html": [
       "<div>\n",
       "<style scoped>\n",
       "    .dataframe tbody tr th:only-of-type {\n",
       "        vertical-align: middle;\n",
       "    }\n",
       "\n",
       "    .dataframe tbody tr th {\n",
       "        vertical-align: top;\n",
       "    }\n",
       "\n",
       "    .dataframe thead th {\n",
       "        text-align: right;\n",
       "    }\n",
       "</style>\n",
       "<table border=\"1\" class=\"dataframe\">\n",
       "  <thead>\n",
       "    <tr style=\"text-align: right;\">\n",
       "      <th></th>\n",
       "      <th>reseñas</th>\n",
       "      <th>IA</th>\n",
       "      <th>longitud</th>\n",
       "    </tr>\n",
       "  </thead>\n",
       "  <tbody>\n",
       "    <tr>\n",
       "      <th>0</th>\n",
       "      <td>Necesitaba un nuevo movil y me decidí por este...</td>\n",
       "      <td>0</td>\n",
       "      <td>297</td>\n",
       "    </tr>\n",
       "    <tr>\n",
       "      <th>1</th>\n",
       "      <td>Está en perfectas condiciones la batería al 10...</td>\n",
       "      <td>0</td>\n",
       "      <td>99</td>\n",
       "    </tr>\n",
       "    <tr>\n",
       "      <th>2</th>\n",
       "      <td>Me llegó ayer el iPhone en perfectas condicion...</td>\n",
       "      <td>0</td>\n",
       "      <td>436</td>\n",
       "    </tr>\n",
       "    <tr>\n",
       "      <th>3</th>\n",
       "      <td>Compré  un iPhone 12 a este vendedor y hace un...</td>\n",
       "      <td>0</td>\n",
       "      <td>657</td>\n",
       "    </tr>\n",
       "    <tr>\n",
       "      <th>4</th>\n",
       "      <td>Soy usuario de IPhone desde el principio. Teng...</td>\n",
       "      <td>0</td>\n",
       "      <td>596</td>\n",
       "    </tr>\n",
       "  </tbody>\n",
       "</table>\n",
       "</div>"
      ],
      "text/plain": [
       "                                             reseñas  IA  longitud\n",
       "0  Necesitaba un nuevo movil y me decidí por este...   0       297\n",
       "1  Está en perfectas condiciones la batería al 10...   0        99\n",
       "2  Me llegó ayer el iPhone en perfectas condicion...   0       436\n",
       "3  Compré  un iPhone 12 a este vendedor y hace un...   0       657\n",
       "4  Soy usuario de IPhone desde el principio. Teng...   0       596"
      ]
     },
     "execution_count": 42,
     "metadata": {},
     "output_type": "execute_result"
    }
   ],
   "source": [
    "df_clasificación.head()"
   ]
  },
  {
   "cell_type": "code",
   "execution_count": 43,
   "metadata": {},
   "outputs": [],
   "source": [
    "df_clasificación.to_csv('data/df_para_clasificación.csv', index=False)"
   ]
  }
 ],
 "metadata": {
  "kernelspec": {
   "display_name": "Python 3",
   "language": "python",
   "name": "python3"
  },
  "language_info": {
   "codemirror_mode": {
    "name": "ipython",
    "version": 3
   },
   "file_extension": ".py",
   "mimetype": "text/x-python",
   "name": "python",
   "nbconvert_exporter": "python",
   "pygments_lexer": "ipython3",
   "version": "3.12.1"
  }
 },
 "nbformat": 4,
 "nbformat_minor": 2
}
