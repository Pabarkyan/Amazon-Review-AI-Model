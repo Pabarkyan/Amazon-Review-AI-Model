{
 "cells": [
  {
   "cell_type": "code",
   "execution_count": null,
   "metadata": {},
   "outputs": [],
   "source": [
    "from selenium import webdriver\n",
    "from selenium.webdriver.chrome.service import Service\n",
    "from selenium.webdriver.chrome.options import Options\n",
    "from bs4 import BeautifulSoup\n",
    "\n",
    "chromedriver_path = r'C:\\Users\\pabma\\Downloads\\chromedriver-win64\\chromedriver-win64\\chromedriver.exe'\n",
    "\n",
    "# Inicializa el navegador\n",
    "service = Service(chromedriver_path)\n",
    "driver = webdriver.Chrome(service=service)\n",
    "\n",
    "driver.get('https://www.amazon.es/gp/bestsellers/?ref_=nav_cs_bestsellers')\n",
    "driver.maximize_window()\n",
    "\n",
    "# Aceptar cookies si es necesario\n",
    "try:\n",
    "    accept_button = driver.find_element_by_id('sp-cc-accept')\n",
    "    accept_button.click()\n",
    "except:\n",
    "    pass\n",
    "\n",
    "# Obtener el HTML de la página actual\n",
    "html = driver.page_source\n",
    "\n",
    "# Pasar el HTML a BeautifulSoup para el análisis\n",
    "soup = BeautifulSoup(html, 'html.parser')\n",
    "\n",
    "# Ahora puedes utilizar BeautifulSoup para analizar y extraer información del HTML\n",
    "# Por ejemplo, encontrar todos los enlaces <a> con la clase 'a-link-normal'\n",
    "enlaces = soup.find_all('a', class_='a-link-normal')\n",
    "\n",
    "# Imprimir los enlaces encontrados\n",
    "for enlace in enlaces:\n",
    "    print(enlace['href'])\n",
    "\n",
    "# Cerrar el navegador\n",
    "driver.quit()\n"
   ]
  }
 ],
 "metadata": {
  "kernelspec": {
   "display_name": "Python 3",
   "language": "python",
   "name": "python3"
  },
  "language_info": {
   "name": "python",
   "version": "3.12.1"
  }
 },
 "nbformat": 4,
 "nbformat_minor": 2
}
